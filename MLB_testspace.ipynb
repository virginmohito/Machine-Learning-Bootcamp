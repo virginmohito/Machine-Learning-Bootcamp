{
  "nbformat": 4,
  "nbformat_minor": 0,
  "metadata": {
    "colab": {
      "provenance": [],
      "authorship_tag": "ABX9TyPccTlh+2lCJSeZKhkmfHcN",
      "include_colab_link": true
    },
    "kernelspec": {
      "name": "python3",
      "display_name": "Python 3"
    },
    "language_info": {
      "name": "python"
    }
  },
  "cells": [
    {
      "cell_type": "markdown",
      "metadata": {
        "id": "view-in-github",
        "colab_type": "text"
      },
      "source": [
        "<a href=\"https://colab.research.google.com/github/virginmohito/Machine-Learning-Bootcamp/blob/main/MLB_testspace.ipynb\" target=\"_parent\"><img src=\"https://colab.research.google.com/assets/colab-badge.svg\" alt=\"Open In Colab\"/></a>"
      ]
    },
    {
      "cell_type": "code",
      "execution_count": null,
      "metadata": {
        "colab": {
          "base_uri": "https://localhost:8080/",
          "height": 52
        },
        "id": "asTjLaTl2w4B",
        "outputId": "2aabf6c7-46dd-4806-ef71-644a47adfb28"
      },
      "outputs": [
        {
          "name": "stdout",
          "output_type": "stream",
          "text": [
            "mohit\n"
          ]
        },
        {
          "output_type": "execute_result",
          "data": {
            "text/plain": [
              "'mohit'"
            ],
            "application/vnd.google.colaboratory.intrinsic+json": {
              "type": "string"
            }
          },
          "metadata": {},
          "execution_count": 1
        }
      ],
      "source": [
        "input()"
      ]
    },
    {
      "cell_type": "code",
      "source": [
        "input (\"first name:\")"
      ],
      "metadata": {
        "colab": {
          "base_uri": "https://localhost:8080/",
          "height": 52
        },
        "id": "zt0ovzLS2zJe",
        "outputId": "28fd4b83-0f09-425f-8d04-f18f607c3e96"
      },
      "execution_count": null,
      "outputs": [
        {
          "name": "stdout",
          "output_type": "stream",
          "text": [
            "first name:MOhit\n"
          ]
        },
        {
          "output_type": "execute_result",
          "data": {
            "text/plain": [
              "'MOhit'"
            ],
            "application/vnd.google.colaboratory.intrinsic+json": {
              "type": "string"
            }
          },
          "metadata": {},
          "execution_count": 2
        }
      ]
    },
    {
      "cell_type": "code",
      "source": [
        "input(\"first name:\")\n"
      ],
      "metadata": {
        "colab": {
          "base_uri": "https://localhost:8080/",
          "height": 52
        },
        "id": "xR8t2OpR27i8",
        "outputId": "5afcdfed-00e7-4c32-e812-71ab28fcd60b"
      },
      "execution_count": null,
      "outputs": [
        {
          "name": "stdout",
          "output_type": "stream",
          "text": [
            "first name:Gupta\n"
          ]
        },
        {
          "output_type": "execute_result",
          "data": {
            "text/plain": [
              "'Gupta'"
            ],
            "application/vnd.google.colaboratory.intrinsic+json": {
              "type": "string"
            }
          },
          "metadata": {},
          "execution_count": 6
        }
      ]
    },
    {
      "cell_type": "code",
      "source": [
        "x=\"let's learn\"\n",
        "y=' \"python\"'\n",
        "a=print(x+y, sep='')"
      ],
      "metadata": {
        "colab": {
          "base_uri": "https://localhost:8080/"
        },
        "id": "t_u4tuW43Od1",
        "outputId": "f47101a0-9310-4012-e248-81465f359944"
      },
      "execution_count": null,
      "outputs": [
        {
          "output_type": "stream",
          "name": "stdout",
          "text": [
            "let's learn \"python\"\n"
          ]
        }
      ]
    },
    {
      "cell_type": "markdown",
      "source": [
        "type(x)"
      ],
      "metadata": {
        "id": "PfFKW5NCCdcm"
      }
    },
    {
      "cell_type": "code",
      "source": [
        "x='let\\'s learn \"python\"'"
      ],
      "metadata": {
        "id": "YeB1lZUnCfLW"
      },
      "execution_count": null,
      "outputs": []
    },
    {
      "cell_type": "code",
      "source": [
        "print(x)"
      ],
      "metadata": {
        "colab": {
          "base_uri": "https://localhost:8080/"
        },
        "id": "DVZ_s7CQGdmH",
        "outputId": "2e7912d9-a231-4601-9a2b-9d1135fde674"
      },
      "execution_count": null,
      "outputs": [
        {
          "output_type": "stream",
          "name": "stdout",
          "text": [
            "let's learn \"python\"\n"
          ]
        }
      ]
    },
    {
      "cell_type": "code",
      "source": [
        "s=1"
      ],
      "metadata": {
        "id": "AIh4_MHLGfkz"
      },
      "execution_count": null,
      "outputs": []
    },
    {
      "cell_type": "code",
      "source": [
        "type(s)"
      ],
      "metadata": {
        "colab": {
          "base_uri": "https://localhost:8080/"
        },
        "id": "Ovn8kW7DHJz1",
        "outputId": "a8a03a8c-4e8a-40f1-b90c-7c4e0f425a4a"
      },
      "execution_count": null,
      "outputs": [
        {
          "output_type": "execute_result",
          "data": {
            "text/plain": [
              "int"
            ]
          },
          "metadata": {},
          "execution_count": 21
        }
      ]
    },
    {
      "cell_type": "code",
      "source": [
        "s=1.5"
      ],
      "metadata": {
        "id": "0osNBxUTHLeW"
      },
      "execution_count": null,
      "outputs": []
    },
    {
      "cell_type": "code",
      "source": [
        "type(s)"
      ],
      "metadata": {
        "colab": {
          "base_uri": "https://localhost:8080/"
        },
        "id": "kXpQarVXHNgt",
        "outputId": "ed06bac7-f833-48a1-8b24-fd5337ca5955"
      },
      "execution_count": null,
      "outputs": [
        {
          "output_type": "execute_result",
          "data": {
            "text/plain": [
              "float"
            ]
          },
          "metadata": {},
          "execution_count": 23
        }
      ]
    },
    {
      "cell_type": "code",
      "source": [
        "a='100'\n",
        "b='200'"
      ],
      "metadata": {
        "colab": {
          "base_uri": "https://localhost:8080/"
        },
        "id": "XLZDfSNZHO0c",
        "outputId": "6a861dd2-e061-4369-8185-f10285d3f53c"
      },
      "execution_count": null,
      "outputs": [
        {
          "output_type": "execute_result",
          "data": {
            "text/plain": [
              "100200"
            ]
          },
          "metadata": {},
          "execution_count": 25
        }
      ]
    },
    {
      "cell_type": "code",
      "source": [],
      "metadata": {
        "id": "Bb_ZB6NFmpAO"
      },
      "execution_count": null,
      "outputs": []
    },
    {
      "cell_type": "code",
      "source": [],
      "metadata": {
        "id": "eOWC1t-JmqwE"
      },
      "execution_count": null,
      "outputs": []
    },
    {
      "cell_type": "code",
      "source": [
        "a=0.0\n",
        "b=0\n",
        "c=a+b\n",
        "x=bool(c)\n",
        "print(x)"
      ],
      "metadata": {
        "colab": {
          "base_uri": "https://localhost:8080/"
        },
        "id": "osiUpo0VH2dN",
        "outputId": "7ff1a0af-c74f-49d8-bfdc-5ce0667832f0"
      },
      "execution_count": null,
      "outputs": [
        {
          "output_type": "stream",
          "name": "stdout",
          "text": [
            "False\n"
          ]
        }
      ]
    },
    {
      "cell_type": "code",
      "source": [
        "a"
      ],
      "metadata": {
        "colab": {
          "base_uri": "https://localhost:8080/",
          "height": 35
        },
        "id": "Upr9KvHCmrpm",
        "outputId": "8438ee68-5ad2-4caa-ff2f-2d69620c2dad"
      },
      "execution_count": null,
      "outputs": [
        {
          "output_type": "execute_result",
          "data": {
            "text/plain": [
              "'Mohit Gupta'"
            ],
            "application/vnd.google.colaboratory.intrinsic+json": {
              "type": "string"
            }
          },
          "metadata": {},
          "execution_count": 48
        }
      ]
    },
    {
      "cell_type": "code",
      "source": [
        "b= \"MBBS\""
      ],
      "metadata": {
        "id": "bQrlx445msZU"
      },
      "execution_count": null,
      "outputs": []
    },
    {
      "cell_type": "code",
      "source": [
        "c=(a+\" \"+b)\n",
        "print(c)"
      ],
      "metadata": {
        "colab": {
          "base_uri": "https://localhost:8080/"
        },
        "id": "Epwz8TjxmyS9",
        "outputId": "a7a38300-1383-408e-f625-838d7a6e5f2c"
      },
      "execution_count": null,
      "outputs": [
        {
          "output_type": "stream",
          "name": "stdout",
          "text": [
            "Mohit Gupta MBBS\n"
          ]
        }
      ]
    },
    {
      "cell_type": "code",
      "source": [
        "a[6:9]"
      ],
      "metadata": {
        "colab": {
          "base_uri": "https://localhost:8080/",
          "height": 35
        },
        "id": "gMi6abmNoKDZ",
        "outputId": "01549e83-9560-46a1-f8fa-52f7b68eea5c"
      },
      "execution_count": null,
      "outputs": [
        {
          "output_type": "execute_result",
          "data": {
            "text/plain": [
              "'Gup'"
            ],
            "application/vnd.google.colaboratory.intrinsic+json": {
              "type": "string"
            }
          },
          "metadata": {},
          "execution_count": 58
        }
      ]
    },
    {
      "cell_type": "code",
      "source": [
        "b[0:]"
      ],
      "metadata": {
        "colab": {
          "base_uri": "https://localhost:8080/",
          "height": 35
        },
        "id": "ex-yUHxRpIL5",
        "outputId": "7c44fbcf-9447-4575-8ca0-b9b1728b08c8"
      },
      "execution_count": null,
      "outputs": [
        {
          "output_type": "execute_result",
          "data": {
            "text/plain": [
              "'MBBS'"
            ],
            "application/vnd.google.colaboratory.intrinsic+json": {
              "type": "string"
            }
          },
          "metadata": {},
          "execution_count": 69
        }
      ]
    },
    {
      "cell_type": "code",
      "source": [
        "c[0:17]"
      ],
      "metadata": {
        "colab": {
          "base_uri": "https://localhost:8080/",
          "height": 35
        },
        "id": "FomPPbyirWDd",
        "outputId": "49294124-baed-4e9b-8218-8f99951d811c"
      },
      "execution_count": null,
      "outputs": [
        {
          "output_type": "execute_result",
          "data": {
            "text/plain": [
              "'Mohit Gupta MBBS'"
            ],
            "application/vnd.google.colaboratory.intrinsic+json": {
              "type": "string"
            }
          },
          "metadata": {},
          "execution_count": 77
        }
      ]
    },
    {
      "cell_type": "code",
      "source": [
        "c[-3:-6:-2]"
      ],
      "metadata": {
        "colab": {
          "base_uri": "https://localhost:8080/",
          "height": 35
        },
        "id": "Qq9BGOCepS1T",
        "outputId": "f1556ead-d174-4dab-b4c7-0de00d678f1d"
      },
      "execution_count": null,
      "outputs": [
        {
          "output_type": "execute_result",
          "data": {
            "text/plain": [
              "'B '"
            ],
            "application/vnd.google.colaboratory.intrinsic+json": {
              "type": "string"
            }
          },
          "metadata": {},
          "execution_count": 78
        }
      ]
    },
    {
      "cell_type": "code",
      "source": [
        "a='we are learning data science'"
      ],
      "metadata": {
        "id": "qxTp2wjBpV2_"
      },
      "execution_count": null,
      "outputs": []
    },
    {
      "cell_type": "code",
      "source": [
        "len(a)-1"
      ],
      "metadata": {
        "colab": {
          "base_uri": "https://localhost:8080/"
        },
        "id": "uOmV9GtntXeZ",
        "outputId": "8912d9a4-db26-44ce-d46d-bd1b1fec6503"
      },
      "execution_count": null,
      "outputs": [
        {
          "output_type": "execute_result",
          "data": {
            "text/plain": [
              "27"
            ]
          },
          "metadata": {},
          "execution_count": 81
        }
      ]
    },
    {
      "cell_type": "code",
      "source": [
        "a[-22::1]"
      ],
      "metadata": {
        "colab": {
          "base_uri": "https://localhost:8080/",
          "height": 35
        },
        "id": "69E3l8T9YMHO",
        "outputId": "5e4357ab-5e8f-4a9c-cd73-891bece1230d"
      },
      "execution_count": null,
      "outputs": [
        {
          "output_type": "execute_result",
          "data": {
            "text/plain": [
              "' learning data science'"
            ],
            "application/vnd.google.colaboratory.intrinsic+json": {
              "type": "string"
            }
          },
          "metadata": {},
          "execution_count": 12
        }
      ]
    },
    {
      "cell_type": "code",
      "source": [
        "a=10\n",
        "q=+++++a\n",
        "print(q)"
      ],
      "metadata": {
        "colab": {
          "base_uri": "https://localhost:8080/"
        },
        "id": "wwKZO2qcfC5T",
        "outputId": "e380949e-5de9-453e-be99-3b2254e66e55"
      },
      "execution_count": null,
      "outputs": [
        {
          "output_type": "stream",
          "name": "stdout",
          "text": [
            "10\n"
          ]
        }
      ]
    },
    {
      "cell_type": "code",
      "source": [
        "a= input(\"write first number:\")\n",
        "b= input (\"write second number:\")\n",
        "c= int(a) + int(b)\n",
        "print(c)"
      ],
      "metadata": {
        "colab": {
          "base_uri": "https://localhost:8080/"
        },
        "id": "AxXERZV6YjGm",
        "outputId": "c2b8393d-0e6a-4599-fa33-4c18f9518f32"
      },
      "execution_count": null,
      "outputs": [
        {
          "output_type": "stream",
          "name": "stdout",
          "text": [
            "write first number:200\n",
            "write second number:300\n",
            "500\n"
          ]
        }
      ]
    },
    {
      "cell_type": "code",
      "source": [
        "a=(input(\"Write your name:\"))\n",
        "b=int(input(\"Write your age:\"))\n",
        "c=100-b\n",
        "print(\"You will turn 100 in years\",c)\n"
      ],
      "metadata": {
        "colab": {
          "base_uri": "https://localhost:8080/"
        },
        "id": "cyHIbrFtap6a",
        "outputId": "993f2edc-5647-40a3-a2b8-038b39c71607"
      },
      "execution_count": null,
      "outputs": [
        {
          "output_type": "stream",
          "name": "stdout",
          "text": [
            "Write your name:Mohit\n",
            "Write your age:30\n",
            "You will turn 100 in years 70\n"
          ]
        }
      ]
    },
    {
      "cell_type": "code",
      "source": [
        "a=input(\"write your name:\")\n",
        "b=int(input(\"Write your age:\"))\n",
        "c=100-b\n",
        "d=2022+c\n",
        "print(\"name:\",a,\" and year\",d)\n"
      ],
      "metadata": {
        "colab": {
          "base_uri": "https://localhost:8080/"
        },
        "id": "sOATd8IedGQk",
        "outputId": "3ba95371-34d4-47b7-b80f-d1ecdac76161"
      },
      "execution_count": null,
      "outputs": [
        {
          "output_type": "stream",
          "name": "stdout",
          "text": [
            "write your name:Mohit\n",
            "Write your age:40\n",
            "name: Mohit  and year 2082\n"
          ]
        }
      ]
    },
    {
      "cell_type": "code",
      "source": [
        "a=input(\"First name:\")\n",
        "b=input(\"Last name:\")\n",
        "c=a[::-1]\n",
        "d=b[::-1]\n",
        "print( c,d,)"
      ],
      "metadata": {
        "colab": {
          "base_uri": "https://localhost:8080/"
        },
        "id": "zCrGKnVYfNz9",
        "outputId": "6d323048-f89c-4773-9582-d28868203519"
      },
      "execution_count": null,
      "outputs": [
        {
          "output_type": "stream",
          "name": "stdout",
          "text": [
            "First name:Mohit\n",
            "Last name:Gupta\n",
            "tihoM atpuG\n"
          ]
        }
      ]
    },
    {
      "cell_type": "code",
      "source": [
        "name=\"Mohit\"\n",
        "age=20\n",
        "sex=\"Male\"\n",
        "print(\"My name is {0} and my age is {2}\". format(name,age,sex))"
      ],
      "metadata": {
        "colab": {
          "base_uri": "https://localhost:8080/"
        },
        "id": "Fuf7UhX724uX",
        "outputId": "ee0cda9b-849e-41f8-b5cd-de9d99194e64"
      },
      "execution_count": null,
      "outputs": [
        {
          "output_type": "stream",
          "name": "stdout",
          "text": [
            "My name is Mohit and my age is Male\n"
          ]
        }
      ]
    },
    {
      "cell_type": "markdown",
      "source": [
        "# 15.12.22"
      ],
      "metadata": {
        "id": "jAg3Yx7cB0Op"
      }
    },
    {
      "cell_type": "code",
      "source": [
        "x=int(input(\"Write a number:\"))\n",
        "if x%2==0:\n",
        "  print(\"Your number is even.\")\n",
        "else:\n",
        "    print(\"Your number is odd.\")"
      ],
      "metadata": {
        "colab": {
          "base_uri": "https://localhost:8080/"
        },
        "id": "pcL_C5v2BzIT",
        "outputId": "78003e81-812f-48e5-d30e-eccc1a96279e"
      },
      "execution_count": 7,
      "outputs": [
        {
          "output_type": "stream",
          "name": "stdout",
          "text": [
            "Write a number:41\n",
            "Your number is odd.\n"
          ]
        }
      ]
    },
    {
      "cell_type": "code",
      "source": [
        "y=str(input(\"Write a character:\"))\n",
        "if \"A\"<y[-1]<\"Z\":\n",
        "  print(\"Your character is CAPITAL.\")\n",
        "else:\n",
        "   print(\"Your character is small.\") "
      ],
      "metadata": {
        "colab": {
          "base_uri": "https://localhost:8080/"
        },
        "id": "0YrBwrfaDkty",
        "outputId": "710099eb-0de8-4d81-8fdc-b987feaf222d"
      },
      "execution_count": 17,
      "outputs": [
        {
          "output_type": "stream",
          "name": "stdout",
          "text": [
            "Write a character:HellO\n",
            "Your character is CAPITAL.\n"
          ]
        }
      ]
    },
    {
      "cell_type": "code",
      "source": [
        "A=int(input(\"Write first number:\"))\n",
        "B=int(input(\"Write second number:\"))\n",
        "C=int(input(\"Write third number:\"))\n",
        "if A>B:\n",
        "  if A>C:\n",
        "    print(\"A is the greatest number.\")\n",
        "elif B>A:\n",
        "    if B>C:\n",
        "      print('B is the greatest number.')\n",
        "else:\n",
        "  print(\"C is the greatest number.\")"
      ],
      "metadata": {
        "colab": {
          "base_uri": "https://localhost:8080/"
        },
        "id": "jPjECEheE6En",
        "outputId": "6f64930f-587e-49bf-a280-c568f99c1ae9"
      },
      "execution_count": 30,
      "outputs": [
        {
          "name": "stdout",
          "output_type": "stream",
          "text": [
            "Write first number:40\n",
            "Write second number:30\n",
            "Write third number:100\n"
          ]
        }
      ]
    }
  ]
}