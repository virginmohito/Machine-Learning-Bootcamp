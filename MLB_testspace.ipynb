{
  "nbformat": 4,
  "nbformat_minor": 0,
  "metadata": {
    "colab": {
      "provenance": [],
      "toc_visible": true,
      "authorship_tag": "ABX9TyMTBpNuaPf1nk846akIyrYi",
      "include_colab_link": true
    },
    "kernelspec": {
      "name": "python3",
      "display_name": "Python 3"
    },
    "language_info": {
      "name": "python"
    }
  },
  "cells": [
    {
      "cell_type": "markdown",
      "metadata": {
        "id": "view-in-github",
        "colab_type": "text"
      },
      "source": [
        "<a href=\"https://colab.research.google.com/github/virginmohito/Machine-Learning-Bootcamp/blob/main/MLB_testspace.ipynb\" target=\"_parent\"><img src=\"https://colab.research.google.com/assets/colab-badge.svg\" alt=\"Open In Colab\"/></a>"
      ]
    },
    {
      "cell_type": "code",
      "execution_count": null,
      "metadata": {
        "colab": {
          "base_uri": "https://localhost:8080/",
          "height": 52
        },
        "id": "asTjLaTl2w4B",
        "outputId": "2aabf6c7-46dd-4806-ef71-644a47adfb28"
      },
      "outputs": [
        {
          "name": "stdout",
          "output_type": "stream",
          "text": [
            "mohit\n"
          ]
        },
        {
          "output_type": "execute_result",
          "data": {
            "text/plain": [
              "'mohit'"
            ],
            "application/vnd.google.colaboratory.intrinsic+json": {
              "type": "string"
            }
          },
          "metadata": {},
          "execution_count": 1
        }
      ],
      "source": [
        "input()"
      ]
    },
    {
      "cell_type": "code",
      "source": [
        "input (\"first name:\")"
      ],
      "metadata": {
        "colab": {
          "base_uri": "https://localhost:8080/",
          "height": 52
        },
        "id": "zt0ovzLS2zJe",
        "outputId": "28fd4b83-0f09-425f-8d04-f18f607c3e96"
      },
      "execution_count": null,
      "outputs": [
        {
          "name": "stdout",
          "output_type": "stream",
          "text": [
            "first name:MOhit\n"
          ]
        },
        {
          "output_type": "execute_result",
          "data": {
            "text/plain": [
              "'MOhit'"
            ],
            "application/vnd.google.colaboratory.intrinsic+json": {
              "type": "string"
            }
          },
          "metadata": {},
          "execution_count": 2
        }
      ]
    },
    {
      "cell_type": "code",
      "source": [
        "input(\"first name:\")\n"
      ],
      "metadata": {
        "colab": {
          "base_uri": "https://localhost:8080/",
          "height": 52
        },
        "id": "xR8t2OpR27i8",
        "outputId": "5afcdfed-00e7-4c32-e812-71ab28fcd60b"
      },
      "execution_count": null,
      "outputs": [
        {
          "name": "stdout",
          "output_type": "stream",
          "text": [
            "first name:Gupta\n"
          ]
        },
        {
          "output_type": "execute_result",
          "data": {
            "text/plain": [
              "'Gupta'"
            ],
            "application/vnd.google.colaboratory.intrinsic+json": {
              "type": "string"
            }
          },
          "metadata": {},
          "execution_count": 6
        }
      ]
    },
    {
      "cell_type": "code",
      "source": [
        "x=\"let's learn\"\n",
        "y=' \"python\"'\n",
        "a=print(x+y, sep='')"
      ],
      "metadata": {
        "colab": {
          "base_uri": "https://localhost:8080/"
        },
        "id": "t_u4tuW43Od1",
        "outputId": "f47101a0-9310-4012-e248-81465f359944"
      },
      "execution_count": null,
      "outputs": [
        {
          "output_type": "stream",
          "name": "stdout",
          "text": [
            "let's learn \"python\"\n"
          ]
        }
      ]
    },
    {
      "cell_type": "markdown",
      "source": [
        "type(x)"
      ],
      "metadata": {
        "id": "PfFKW5NCCdcm"
      }
    },
    {
      "cell_type": "code",
      "source": [
        "x='let\\'s learn \"python\"'"
      ],
      "metadata": {
        "id": "YeB1lZUnCfLW"
      },
      "execution_count": null,
      "outputs": []
    },
    {
      "cell_type": "code",
      "source": [
        "print(x)"
      ],
      "metadata": {
        "colab": {
          "base_uri": "https://localhost:8080/"
        },
        "id": "DVZ_s7CQGdmH",
        "outputId": "2e7912d9-a231-4601-9a2b-9d1135fde674"
      },
      "execution_count": null,
      "outputs": [
        {
          "output_type": "stream",
          "name": "stdout",
          "text": [
            "let's learn \"python\"\n"
          ]
        }
      ]
    },
    {
      "cell_type": "code",
      "source": [
        "s=1"
      ],
      "metadata": {
        "id": "AIh4_MHLGfkz"
      },
      "execution_count": null,
      "outputs": []
    },
    {
      "cell_type": "code",
      "source": [
        "type(s)"
      ],
      "metadata": {
        "colab": {
          "base_uri": "https://localhost:8080/"
        },
        "id": "Ovn8kW7DHJz1",
        "outputId": "a8a03a8c-4e8a-40f1-b90c-7c4e0f425a4a"
      },
      "execution_count": null,
      "outputs": [
        {
          "output_type": "execute_result",
          "data": {
            "text/plain": [
              "int"
            ]
          },
          "metadata": {},
          "execution_count": 21
        }
      ]
    },
    {
      "cell_type": "code",
      "source": [
        "s=1.5"
      ],
      "metadata": {
        "id": "0osNBxUTHLeW"
      },
      "execution_count": null,
      "outputs": []
    },
    {
      "cell_type": "code",
      "source": [
        "type(s)"
      ],
      "metadata": {
        "colab": {
          "base_uri": "https://localhost:8080/"
        },
        "id": "kXpQarVXHNgt",
        "outputId": "ed06bac7-f833-48a1-8b24-fd5337ca5955"
      },
      "execution_count": null,
      "outputs": [
        {
          "output_type": "execute_result",
          "data": {
            "text/plain": [
              "float"
            ]
          },
          "metadata": {},
          "execution_count": 23
        }
      ]
    },
    {
      "cell_type": "code",
      "source": [
        "a='100'\n",
        "b='200'"
      ],
      "metadata": {
        "colab": {
          "base_uri": "https://localhost:8080/"
        },
        "id": "XLZDfSNZHO0c",
        "outputId": "6a861dd2-e061-4369-8185-f10285d3f53c"
      },
      "execution_count": null,
      "outputs": [
        {
          "output_type": "execute_result",
          "data": {
            "text/plain": [
              "100200"
            ]
          },
          "metadata": {},
          "execution_count": 25
        }
      ]
    },
    {
      "cell_type": "code",
      "source": [],
      "metadata": {
        "id": "Bb_ZB6NFmpAO"
      },
      "execution_count": null,
      "outputs": []
    },
    {
      "cell_type": "code",
      "source": [],
      "metadata": {
        "id": "eOWC1t-JmqwE"
      },
      "execution_count": null,
      "outputs": []
    },
    {
      "cell_type": "code",
      "source": [
        "a=0.0\n",
        "b=0\n",
        "c=a+b\n",
        "x=bool(c)\n",
        "print(x)"
      ],
      "metadata": {
        "colab": {
          "base_uri": "https://localhost:8080/"
        },
        "id": "osiUpo0VH2dN",
        "outputId": "7ff1a0af-c74f-49d8-bfdc-5ce0667832f0"
      },
      "execution_count": null,
      "outputs": [
        {
          "output_type": "stream",
          "name": "stdout",
          "text": [
            "False\n"
          ]
        }
      ]
    },
    {
      "cell_type": "code",
      "source": [
        "a"
      ],
      "metadata": {
        "colab": {
          "base_uri": "https://localhost:8080/",
          "height": 35
        },
        "id": "Upr9KvHCmrpm",
        "outputId": "8438ee68-5ad2-4caa-ff2f-2d69620c2dad"
      },
      "execution_count": null,
      "outputs": [
        {
          "output_type": "execute_result",
          "data": {
            "text/plain": [
              "'Mohit Gupta'"
            ],
            "application/vnd.google.colaboratory.intrinsic+json": {
              "type": "string"
            }
          },
          "metadata": {},
          "execution_count": 48
        }
      ]
    },
    {
      "cell_type": "code",
      "source": [
        "b= \"MBBS\""
      ],
      "metadata": {
        "id": "bQrlx445msZU"
      },
      "execution_count": null,
      "outputs": []
    },
    {
      "cell_type": "code",
      "source": [
        "c=(a+\" \"+b)\n",
        "print(c)"
      ],
      "metadata": {
        "colab": {
          "base_uri": "https://localhost:8080/"
        },
        "id": "Epwz8TjxmyS9",
        "outputId": "a7a38300-1383-408e-f625-838d7a6e5f2c"
      },
      "execution_count": null,
      "outputs": [
        {
          "output_type": "stream",
          "name": "stdout",
          "text": [
            "Mohit Gupta MBBS\n"
          ]
        }
      ]
    },
    {
      "cell_type": "code",
      "source": [
        "a[6:9]"
      ],
      "metadata": {
        "colab": {
          "base_uri": "https://localhost:8080/",
          "height": 35
        },
        "id": "gMi6abmNoKDZ",
        "outputId": "01549e83-9560-46a1-f8fa-52f7b68eea5c"
      },
      "execution_count": null,
      "outputs": [
        {
          "output_type": "execute_result",
          "data": {
            "text/plain": [
              "'Gup'"
            ],
            "application/vnd.google.colaboratory.intrinsic+json": {
              "type": "string"
            }
          },
          "metadata": {},
          "execution_count": 58
        }
      ]
    },
    {
      "cell_type": "code",
      "source": [
        "b[0:]"
      ],
      "metadata": {
        "colab": {
          "base_uri": "https://localhost:8080/",
          "height": 35
        },
        "id": "ex-yUHxRpIL5",
        "outputId": "7c44fbcf-9447-4575-8ca0-b9b1728b08c8"
      },
      "execution_count": null,
      "outputs": [
        {
          "output_type": "execute_result",
          "data": {
            "text/plain": [
              "'MBBS'"
            ],
            "application/vnd.google.colaboratory.intrinsic+json": {
              "type": "string"
            }
          },
          "metadata": {},
          "execution_count": 69
        }
      ]
    },
    {
      "cell_type": "code",
      "source": [
        "c[0:17]"
      ],
      "metadata": {
        "colab": {
          "base_uri": "https://localhost:8080/",
          "height": 35
        },
        "id": "FomPPbyirWDd",
        "outputId": "49294124-baed-4e9b-8218-8f99951d811c"
      },
      "execution_count": null,
      "outputs": [
        {
          "output_type": "execute_result",
          "data": {
            "text/plain": [
              "'Mohit Gupta MBBS'"
            ],
            "application/vnd.google.colaboratory.intrinsic+json": {
              "type": "string"
            }
          },
          "metadata": {},
          "execution_count": 77
        }
      ]
    },
    {
      "cell_type": "code",
      "source": [
        "c[-3:-6:-2]"
      ],
      "metadata": {
        "colab": {
          "base_uri": "https://localhost:8080/",
          "height": 35
        },
        "id": "Qq9BGOCepS1T",
        "outputId": "f1556ead-d174-4dab-b4c7-0de00d678f1d"
      },
      "execution_count": null,
      "outputs": [
        {
          "output_type": "execute_result",
          "data": {
            "text/plain": [
              "'B '"
            ],
            "application/vnd.google.colaboratory.intrinsic+json": {
              "type": "string"
            }
          },
          "metadata": {},
          "execution_count": 78
        }
      ]
    },
    {
      "cell_type": "code",
      "source": [
        "a='we are learning data science'"
      ],
      "metadata": {
        "id": "qxTp2wjBpV2_"
      },
      "execution_count": null,
      "outputs": []
    },
    {
      "cell_type": "code",
      "source": [
        "len(a)-1"
      ],
      "metadata": {
        "colab": {
          "base_uri": "https://localhost:8080/"
        },
        "id": "uOmV9GtntXeZ",
        "outputId": "8912d9a4-db26-44ce-d46d-bd1b1fec6503"
      },
      "execution_count": null,
      "outputs": [
        {
          "output_type": "execute_result",
          "data": {
            "text/plain": [
              "27"
            ]
          },
          "metadata": {},
          "execution_count": 81
        }
      ]
    },
    {
      "cell_type": "code",
      "source": [
        "a[-22::1]"
      ],
      "metadata": {
        "colab": {
          "base_uri": "https://localhost:8080/",
          "height": 35
        },
        "id": "69E3l8T9YMHO",
        "outputId": "5e4357ab-5e8f-4a9c-cd73-891bece1230d"
      },
      "execution_count": null,
      "outputs": [
        {
          "output_type": "execute_result",
          "data": {
            "text/plain": [
              "' learning data science'"
            ],
            "application/vnd.google.colaboratory.intrinsic+json": {
              "type": "string"
            }
          },
          "metadata": {},
          "execution_count": 12
        }
      ]
    },
    {
      "cell_type": "code",
      "source": [
        "a=10\n",
        "q=+++++a\n",
        "print(q)"
      ],
      "metadata": {
        "colab": {
          "base_uri": "https://localhost:8080/"
        },
        "id": "wwKZO2qcfC5T",
        "outputId": "e380949e-5de9-453e-be99-3b2254e66e55"
      },
      "execution_count": null,
      "outputs": [
        {
          "output_type": "stream",
          "name": "stdout",
          "text": [
            "10\n"
          ]
        }
      ]
    },
    {
      "cell_type": "code",
      "source": [
        "a= input(\"write first number:\")\n",
        "b= input (\"write second number:\")\n",
        "c= int(a) + int(b)\n",
        "print(c)"
      ],
      "metadata": {
        "colab": {
          "base_uri": "https://localhost:8080/"
        },
        "id": "AxXERZV6YjGm",
        "outputId": "c2b8393d-0e6a-4599-fa33-4c18f9518f32"
      },
      "execution_count": null,
      "outputs": [
        {
          "output_type": "stream",
          "name": "stdout",
          "text": [
            "write first number:200\n",
            "write second number:300\n",
            "500\n"
          ]
        }
      ]
    },
    {
      "cell_type": "code",
      "source": [
        "a=(input(\"Write your name:\"))\n",
        "b=int(input(\"Write your age:\"))\n",
        "c=100-b\n",
        "print(\"You will turn 100 in years\",c)\n"
      ],
      "metadata": {
        "colab": {
          "base_uri": "https://localhost:8080/"
        },
        "id": "cyHIbrFtap6a",
        "outputId": "993f2edc-5647-40a3-a2b8-038b39c71607"
      },
      "execution_count": null,
      "outputs": [
        {
          "output_type": "stream",
          "name": "stdout",
          "text": [
            "Write your name:Mohit\n",
            "Write your age:30\n",
            "You will turn 100 in years 70\n"
          ]
        }
      ]
    },
    {
      "cell_type": "code",
      "source": [
        "a=input(\"write your name:\")\n",
        "b=int(input(\"Write your age:\"))\n",
        "c=100-b\n",
        "d=2022+c\n",
        "print(\"name:\",a,\" and year\",d)\n"
      ],
      "metadata": {
        "colab": {
          "base_uri": "https://localhost:8080/"
        },
        "id": "sOATd8IedGQk",
        "outputId": "3ba95371-34d4-47b7-b80f-d1ecdac76161"
      },
      "execution_count": null,
      "outputs": [
        {
          "output_type": "stream",
          "name": "stdout",
          "text": [
            "write your name:Mohit\n",
            "Write your age:40\n",
            "name: Mohit  and year 2082\n"
          ]
        }
      ]
    },
    {
      "cell_type": "code",
      "source": [
        "a=input(\"First name:\")\n",
        "b=input(\"Last name:\")\n",
        "c=a[::-1]\n",
        "d=b[::-1]\n",
        "print( c,d,)"
      ],
      "metadata": {
        "colab": {
          "base_uri": "https://localhost:8080/"
        },
        "id": "zCrGKnVYfNz9",
        "outputId": "6d323048-f89c-4773-9582-d28868203519"
      },
      "execution_count": null,
      "outputs": [
        {
          "output_type": "stream",
          "name": "stdout",
          "text": [
            "First name:Mohit\n",
            "Last name:Gupta\n",
            "tihoM atpuG\n"
          ]
        }
      ]
    },
    {
      "cell_type": "code",
      "source": [
        "name=\"Mohit\"\n",
        "age=20\n",
        "sex=\"Male\"\n",
        "print(\"My name is {0} and my age is {2}\". format(name,age,sex))"
      ],
      "metadata": {
        "colab": {
          "base_uri": "https://localhost:8080/"
        },
        "id": "Fuf7UhX724uX",
        "outputId": "ee0cda9b-849e-41f8-b5cd-de9d99194e64"
      },
      "execution_count": null,
      "outputs": [
        {
          "output_type": "stream",
          "name": "stdout",
          "text": [
            "My name is Mohit and my age is Male\n"
          ]
        }
      ]
    },
    {
      "cell_type": "markdown",
      "source": [
        "# 15.12.22"
      ],
      "metadata": {
        "id": "jAg3Yx7cB0Op"
      }
    },
    {
      "cell_type": "code",
      "source": [
        "x=int(input(\"Write a number:\"))\n",
        "if x%2==0:\n",
        "  print(\"Your number is even.\")\n",
        "else:\n",
        "    print(\"Your number is odd.\")"
      ],
      "metadata": {
        "colab": {
          "base_uri": "https://localhost:8080/"
        },
        "id": "pcL_C5v2BzIT",
        "outputId": "78003e81-812f-48e5-d30e-eccc1a96279e"
      },
      "execution_count": null,
      "outputs": [
        {
          "output_type": "stream",
          "name": "stdout",
          "text": [
            "Write a number:41\n",
            "Your number is odd.\n"
          ]
        }
      ]
    },
    {
      "cell_type": "code",
      "source": [
        "y=str(input(\"Write a character:\"))\n",
        "if \"A\"<y[-1]<\"Z\":\n",
        "  print(\"Your character is CAPITAL.\")\n",
        "else:\n",
        "   print(\"Your character is small.\") "
      ],
      "metadata": {
        "colab": {
          "base_uri": "https://localhost:8080/"
        },
        "id": "0YrBwrfaDkty",
        "outputId": "710099eb-0de8-4d81-8fdc-b987feaf222d"
      },
      "execution_count": null,
      "outputs": [
        {
          "output_type": "stream",
          "name": "stdout",
          "text": [
            "Write a character:HellO\n",
            "Your character is CAPITAL.\n"
          ]
        }
      ]
    },
    {
      "cell_type": "code",
      "source": [
        "A=int(input(\"Write first number:\"))\n",
        "B=int(input(\"Write second number:\"))\n",
        "C=int(input(\"Write third number:\"))\n",
        "if A>B:\n",
        "  if A>C:\n",
        "    print(\"A is the greatest number.\")\n",
        "elif B>A:\n",
        "    if B>C:\n",
        "      print('B is the greatest number.')\n",
        "else:\n",
        "  print(\"C is the greatest number.\")"
      ],
      "metadata": {
        "colab": {
          "base_uri": "https://localhost:8080/"
        },
        "id": "jPjECEheE6En",
        "outputId": "6f64930f-587e-49bf-a280-c568f99c1ae9"
      },
      "execution_count": null,
      "outputs": [
        {
          "name": "stdout",
          "output_type": "stream",
          "text": [
            "Write first number:40\n",
            "Write second number:30\n",
            "Write third number:100\n"
          ]
        }
      ]
    },
    {
      "cell_type": "markdown",
      "source": [
        "#Logging"
      ],
      "metadata": {
        "id": "EFHwNRJ6f9zE"
      }
    },
    {
      "cell_type": "code",
      "source": [
        "def test(in_num):\n",
        "  print('I am in the function.')\n",
        "  result=in_num*10\n",
        "  print(\"multiplication is done\")\n",
        "  return result"
      ],
      "metadata": {
        "id": "eOhsGt6KfPKX"
      },
      "execution_count": 3,
      "outputs": []
    },
    {
      "cell_type": "code",
      "source": [
        "x=test(524)\n",
        "print(f\"Here is the final answer:{x}\")"
      ],
      "metadata": {
        "id": "6EDx5p_WfZ6Y",
        "outputId": "1a6f9d4b-7e27-458c-f906-7df1e2d36488",
        "colab": {
          "base_uri": "https://localhost:8080/"
        }
      },
      "execution_count": 7,
      "outputs": [
        {
          "output_type": "stream",
          "name": "stdout",
          "text": [
            "I am in the function.\n",
            "multiplication is done\n",
            "Here is the final answer:5240\n"
          ]
        }
      ]
    },
    {
      "cell_type": "code",
      "source": [
        "import logging #preserves and categorizes the information according to priority"
      ],
      "metadata": {
        "id": "7RQ6S5xcfgc5"
      },
      "execution_count": 8,
      "outputs": []
    },
    {
      "cell_type": "code",
      "source": [
        "#none 0\n",
        "#debug 10\n",
        "#info 20\n",
        "#warning 30 by default the logging starts from warning\n",
        "#error 40\n",
        "#critical 50"
      ],
      "metadata": {
        "id": "hAVttp4Ff4Lr"
      },
      "execution_count": 11,
      "outputs": []
    },
    {
      "cell_type": "code",
      "source": [
        "import logging\n",
        "logging.debug('There is nothing to debug.')\n",
        "logging.info('This is my ML bootcamp class.')\n",
        "logging.warning('focus only in class.')\n",
        "logging.error('There is no error.')\n",
        "logging.critical('There is no critical issue.')"
      ],
      "metadata": {
        "id": "fLYXym37gQ8I",
        "outputId": "e75f786e-d4f6-41a6-9fbe-32cdcb257019",
        "colab": {
          "base_uri": "https://localhost:8080/"
        }
      },
      "execution_count": 14,
      "outputs": [
        {
          "output_type": "stream",
          "name": "stderr",
          "text": [
            "WARNING:root:focus only in class.\n",
            "ERROR:root:There is no error.\n",
            "CRITICAL:root:There is no critical issue.\n"
          ]
        }
      ]
    },
    {
      "cell_type": "code",
      "source": [
        "import os\n",
        "os.getcwd()"
      ],
      "metadata": {
        "id": "hgc9gSNAkjKK",
        "outputId": "ece6adf1-11bd-43ff-fb02-f658312db6bb",
        "colab": {
          "base_uri": "https://localhost:8080/",
          "height": 37
        }
      },
      "execution_count": 18,
      "outputs": [
        {
          "output_type": "execute_result",
          "data": {
            "text/plain": [
              "'/content'"
            ],
            "application/vnd.google.colaboratory.intrinsic+json": {
              "type": "string"
            }
          },
          "metadata": {},
          "execution_count": 18
        }
      ]
    },
    {
      "cell_type": "code",
      "source": [
        "myformat='%(asctime)s - %(name)s - %(message) - %(levelname)s'"
      ],
      "metadata": {
        "id": "q-_eTNcgoSSL"
      },
      "execution_count": 21,
      "outputs": []
    },
    {
      "cell_type": "code",
      "source": [
        "logging.basicConfig(filename='/content/test.txt', level=logging.DEBUG, force=True, format=myformat, filemode='w')"
      ],
      "metadata": {
        "id": "sUnlLjXjiZzt"
      },
      "execution_count": 22,
      "outputs": []
    },
    {
      "cell_type": "code",
      "source": [
        "logging.info('This is my ML bootcamp class.')\n",
        "logging.warning('focus only in class.')\n",
        "logging.error('There is no error.')\n",
        "logging.critical('There is no critical issue.')"
      ],
      "metadata": {
        "id": "UahY5F8gj04I"
      },
      "execution_count": null,
      "outputs": []
    },
    {
      "cell_type": "code",
      "source": [
        "#log inside the file \n",
        "#different levels of the log info\n",
        "#mode of file append and write"
      ],
      "metadata": {
        "id": "1l6-y-O2j18E"
      },
      "execution_count": null,
      "outputs": []
    },
    {
      "cell_type": "code",
      "source": [
        "#Create Logger\n",
        "logger=logging.getLogger('mohit')"
      ],
      "metadata": {
        "id": "Y4MsUkNjpKhk"
      },
      "execution_count": 24,
      "outputs": []
    },
    {
      "cell_type": "code",
      "source": [],
      "metadata": {
        "id": "hU-WcPSoqFeM"
      },
      "execution_count": null,
      "outputs": []
    },
    {
      "cell_type": "markdown",
      "source": [
        "# File handling"
      ],
      "metadata": {
        "id": "0x95277Hradm"
      }
    },
    {
      "cell_type": "code",
      "source": [],
      "metadata": {
        "id": "Avyk4cgfreh0"
      },
      "execution_count": null,
      "outputs": []
    }
  ]
}