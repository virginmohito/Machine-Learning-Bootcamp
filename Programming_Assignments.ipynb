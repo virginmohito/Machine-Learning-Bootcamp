{
  "nbformat": 4,
  "nbformat_minor": 0,
  "metadata": {
    "colab": {
      "provenance": [],
      "authorship_tag": "ABX9TyOm7A46AoETfBe0BbJc1M3l",
      "include_colab_link": true
    },
    "kernelspec": {
      "name": "python3",
      "display_name": "Python 3"
    },
    "language_info": {
      "name": "python"
    }
  },
  "cells": [
    {
      "cell_type": "markdown",
      "metadata": {
        "id": "view-in-github",
        "colab_type": "text"
      },
      "source": [
        "<a href=\"https://colab.research.google.com/github/virginmohito/Machine-Learning-Bootcamp/blob/Assignment-answers/Programming_Assignments.ipynb\" target=\"_parent\"><img src=\"https://colab.research.google.com/assets/colab-badge.svg\" alt=\"Open In Colab\"/></a>"
      ]
    },
    {
      "cell_type": "markdown",
      "source": [
        "# Assignment 1"
      ],
      "metadata": {
        "id": "luaIkIr3r_0c"
      }
    },
    {
      "cell_type": "code",
      "source": [
        "#1\n",
        "print('Hello python.')"
      ],
      "metadata": {
        "id": "HnGrGZV8r_VU"
      },
      "execution_count": 1,
      "outputs": []
    },
    {
      "cell_type": "code",
      "source": [
        "#2\n",
        "a=3\n",
        "b=4\n",
        "add=a+b\n",
        "sub=a-b\n",
        "print(add,sub)"
      ],
      "metadata": {
        "colab": {
          "base_uri": "https://localhost:8080/"
        },
        "id": "5e4oaixXsKat",
        "outputId": "6a6393a5-d25c-41f8-b4c0-747f47fd9804"
      },
      "execution_count": 10,
      "outputs": [
        {
          "output_type": "stream",
          "name": "stdout",
          "text": [
            "7 -1\n"
          ]
        }
      ]
    },
    {
      "cell_type": "code",
      "source": [
        "#3\n",
        "Base=int(input('Write your value of Base:'))\n",
        "Height=int(input(\"Write your Height:\"))\n",
        "Areaoftri=1/2*Base*Height\n",
        "print(Areaoftri)"
      ],
      "metadata": {
        "colab": {
          "base_uri": "https://localhost:8080/"
        },
        "id": "ks9yIVAasXvQ",
        "outputId": "bc9d2115-a890-4d8d-9f69-9e7c71396adc"
      },
      "execution_count": 15,
      "outputs": [
        {
          "output_type": "stream",
          "name": "stdout",
          "text": [
            "Write your value of Base:30\n",
            "Write your Height:40\n",
            "600.0\n"
          ]
        }
      ]
    },
    {
      "cell_type": "code",
      "source": [
        "#4\n",
        "x = int(input('Write your x:'))\n",
        "y = int(input('Write your y:'))\n",
        "x, y = y, x\n",
        "print(\"x =\", x)\n",
        "print(\"y =\", y)"
      ],
      "metadata": {
        "colab": {
          "base_uri": "https://localhost:8080/"
        },
        "id": "M5IKJsuvuICW",
        "outputId": "1c7b3f01-5a25-4279-a1fe-6f0d85755f11"
      },
      "execution_count": 20,
      "outputs": [
        {
          "output_type": "stream",
          "name": "stdout",
          "text": [
            "Write your x:30\n",
            "Write your y:40\n",
            "x = 40\n",
            "y = 30\n"
          ]
        }
      ]
    },
    {
      "cell_type": "code",
      "source": [
        "#5\n",
        "import random\n",
        "print(random.randint(0,101))"
      ],
      "metadata": {
        "colab": {
          "base_uri": "https://localhost:8080/"
        },
        "id": "Om8F0wcVuLAo",
        "outputId": "7764de5f-6bed-479c-857d-dcf5fd555d87"
      },
      "execution_count": 33,
      "outputs": [
        {
          "output_type": "stream",
          "name": "stdout",
          "text": [
            "6\n"
          ]
        }
      ]
    }
  ]
}