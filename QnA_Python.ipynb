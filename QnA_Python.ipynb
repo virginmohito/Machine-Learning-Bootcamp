{
  "nbformat": 4,
  "nbformat_minor": 0,
  "metadata": {
    "colab": {
      "provenance": [],
      "toc_visible": true,
      "authorship_tag": "ABX9TyO98FwpCU22f8yX3i89O6Wf",
      "include_colab_link": true
    },
    "kernelspec": {
      "name": "python3",
      "display_name": "Python 3"
    },
    "language_info": {
      "name": "python"
    }
  },
  "cells": [
    {
      "cell_type": "markdown",
      "metadata": {
        "id": "view-in-github",
        "colab_type": "text"
      },
      "source": [
        "<a href=\"https://colab.research.google.com/github/virginmohito/Machine-Learning-Bootcamp/blob/main/QnA_Python.ipynb\" target=\"_parent\"><img src=\"https://colab.research.google.com/assets/colab-badge.svg\" alt=\"Open In Colab\"/></a>"
      ]
    },
    {
      "cell_type": "markdown",
      "source": [
        "# 13.12.22"
      ],
      "metadata": {
        "id": "WZKxfn406eQI"
      }
    },
    {
      "cell_type": "code",
      "execution_count": null,
      "metadata": {
        "id": "7iiWwBObm5-9"
      },
      "outputs": [],
      "source": [
        "#1"
      ]
    },
    {
      "cell_type": "code",
      "source": [
        "a= input(\"write first number:\")\n",
        "b= input (\"write second number:\")\n",
        "c= int(a) + int(b)\n",
        "print(c)"
      ],
      "metadata": {
        "id": "wN9LTrqinjel"
      },
      "execution_count": null,
      "outputs": []
    },
    {
      "cell_type": "code",
      "source": [
        "#2"
      ],
      "metadata": {
        "id": "MeTDHdGFnost"
      },
      "execution_count": null,
      "outputs": []
    },
    {
      "cell_type": "code",
      "source": [
        "R=int(input(\"Enter radius of circle:\"))\n",
        "C=2*3.14*R\n",
        "A=3.14*(R**2)\n",
        "print(\"Circumference:\",C, \" and Area:\", A)"
      ],
      "metadata": {
        "colab": {
          "base_uri": "https://localhost:8080/"
        },
        "id": "IZc-YQ0EnqEb",
        "outputId": "4f578eaf-b694-4929-faa3-baf4c1ac4fcb"
      },
      "execution_count": null,
      "outputs": [
        {
          "output_type": "stream",
          "name": "stdout",
          "text": [
            "Enter radius of circle:4\n",
            "Circumference: 25.12  and Area: 50.24\n"
          ]
        }
      ]
    },
    {
      "cell_type": "code",
      "source": [
        "#3"
      ],
      "metadata": {
        "id": "LNZls38rod1F"
      },
      "execution_count": null,
      "outputs": []
    },
    {
      "cell_type": "code",
      "source": [
        "RN=int(input(\"Enter Roll number:\"))\n",
        "G=int(input(\"Enter grade:\"))\n",
        "P=int(input(\"Enter Percentage:\"))\n",
        "print(\"Your roll number is:\",RN,\n",
        "      \" and Your grade is:\",G,\n",
        "      \" and Your percentage is:\",P,)"
      ],
      "metadata": {
        "colab": {
          "base_uri": "https://localhost:8080/"
        },
        "id": "r1fFKd7mofIK",
        "outputId": "662fb206-5f23-4614-e4b5-5c90b83b0c78"
      },
      "execution_count": null,
      "outputs": [
        {
          "output_type": "stream",
          "name": "stdout",
          "text": [
            "Enter Roll number:430\n",
            "Enter grade:30\n",
            "Enter Percentage:40\n",
            "Your roll number is: 430  and Your grade is: 30  and Your percentage is: 40\n"
          ]
        }
      ]
    },
    {
      "cell_type": "code",
      "source": [
        "#4"
      ],
      "metadata": {
        "id": "g6uFNw8Bpdqu"
      },
      "execution_count": null,
      "outputs": []
    },
    {
      "cell_type": "code",
      "source": [
        "=input(\"write your name:\")\n",
        "b=int(input(\"Write your age:\"))\n",
        "c=100-b\n",
        "d=2022+c\n",
        "print(\"name:\",a,\" and year\",d)"
      ],
      "metadata": {
        "id": "dEEqzpEFpfgY"
      },
      "execution_count": null,
      "outputs": []
    },
    {
      "cell_type": "code",
      "source": [
        "#5"
      ],
      "metadata": {
        "id": "wJ6cx0kupoee"
      },
      "execution_count": null,
      "outputs": []
    },
    {
      "cell_type": "code",
      "source": [
        "a=input(\"First name:\")\n",
        "b=input(\"Last name:\")\n",
        "c=a[::-1]\n",
        "d=b[::-1]\n",
        "print(c,d)"
      ],
      "metadata": {
        "colab": {
          "base_uri": "https://localhost:8080/"
        },
        "id": "qZeVahx0pqTa",
        "outputId": "a553c097-41fa-4a75-9477-dddcd7c80881"
      },
      "execution_count": null,
      "outputs": [
        {
          "output_type": "stream",
          "name": "stdout",
          "text": [
            "First name:Mohit\n",
            "Last name:Gupta\n",
            "tihoM atpuG\n"
          ]
        }
      ]
    },
    {
      "cell_type": "code",
      "source": [
        "#15.12.2022"
      ],
      "metadata": {
        "id": "OpQJ5JlvqBAU"
      },
      "execution_count": null,
      "outputs": []
    },
    {
      "cell_type": "markdown",
      "source": [
        "# 15.12.22"
      ],
      "metadata": {
        "id": "yGQYc8ee6iuj"
      }
    },
    {
      "cell_type": "code",
      "source": [
        "#1"
      ],
      "metadata": {
        "id": "9NckLHX0QJVJ"
      },
      "execution_count": null,
      "outputs": []
    },
    {
      "cell_type": "code",
      "source": [
        "num=int(input(\"Write a number:\"))\n",
        "if (num)%2==0:\n",
        "  print(\"Your number is even.\")\n",
        "else:\n",
        "  print(\"Your number is odd.\")"
      ],
      "metadata": {
        "id": "9JxS3DQR6lIW",
        "outputId": "e73c13dc-9179-4d95-b688-8a66ce9f18f6",
        "colab": {
          "base_uri": "https://localhost:8080/"
        }
      },
      "execution_count": 2,
      "outputs": [
        {
          "output_type": "stream",
          "name": "stdout",
          "text": [
            "Write a number:56789\n",
            "Your number is odd.\n"
          ]
        }
      ]
    },
    {
      "cell_type": "code",
      "source": [
        "#2"
      ],
      "metadata": {
        "id": "bE29Rbs8QLAM"
      },
      "execution_count": null,
      "outputs": []
    },
    {
      "cell_type": "code",
      "source": [
        "char=input(\"Write your character: \")\n",
        "if 'A'<(char)<'Z':\n",
        "  print('Your character is CAPITAL.')\n",
        "else:\n",
        "  print('Your character is small.')"
      ],
      "metadata": {
        "id": "cWN8udIuQMWV",
        "outputId": "9c0cb727-ba77-44d0-8309-080442c58b5e",
        "colab": {
          "base_uri": "https://localhost:8080/"
        }
      },
      "execution_count": 4,
      "outputs": [
        {
          "output_type": "stream",
          "name": "stdout",
          "text": [
            "Write your character: a\n",
            "Your character is small.\n"
          ]
        }
      ]
    },
    {
      "cell_type": "code",
      "source": [
        "#3"
      ],
      "metadata": {
        "id": "fa18EmI3Qx5e"
      },
      "execution_count": 5,
      "outputs": []
    },
    {
      "cell_type": "code",
      "source": [
        "sym=input('Write your character: ')\n",
        "ch=sym[0]\n",
        "if \"A\"<=ch<=\"Z\":\n",
        "  print(\"Your character is CAPITAL.\")\n",
        "elif \"a\"<=ch<=\"z\":\n",
        "    print(\"Your characer is small.\")\n",
        "elif  \"0\"<=ch<=\"9\":\n",
        "    print(\"Your characer is a number.\")\n",
        "else:\n",
        "  print(\"Your chracter is a symbol.\")"
      ],
      "metadata": {
        "id": "Jrt7IViUQyyK",
        "outputId": "4a19aa7c-db17-43ad-8c67-e7fa6a2ffbb8",
        "colab": {
          "base_uri": "https://localhost:8080/"
        }
      },
      "execution_count": 22,
      "outputs": [
        {
          "output_type": "stream",
          "name": "stdout",
          "text": [
            "Write your character: a\n",
            "Your characer is small.\n"
          ]
        }
      ]
    },
    {
      "cell_type": "code",
      "source": [
        "#4"
      ],
      "metadata": {
        "id": "mFr80bJQZSsR"
      },
      "execution_count": null,
      "outputs": []
    },
    {
      "cell_type": "code",
      "source": [
        "n1=int((input(\"Write number :\")))\n",
        "n2=int((input(\"Write number :\")))\n",
        "n3=int((input(\"Write number :\")))\n",
        "if n1>n2:\n",
        "  if n1>n3:\n",
        "    print(\"n1 is the greatest number.\")\n",
        "elif n2>n1:\n",
        "  if n2>n3:\n",
        "    print(\"n2 is the greatest number.\")\n",
        "else:\n",
        "    print(\"n3 is the greatest number.\")"
      ],
      "metadata": {
        "id": "XA9sRn5EZYlA",
        "outputId": "d354200a-8440-4f50-d07f-a3f5e3020c31",
        "colab": {
          "base_uri": "https://localhost:8080/"
        }
      },
      "execution_count": 36,
      "outputs": [
        {
          "output_type": "stream",
          "name": "stdout",
          "text": [
            "Write number :40\n",
            "Write number :80\n",
            "Write number :50\n",
            "n2 is the greatest number.\n"
          ]
        }
      ]
    },
    {
      "cell_type": "code",
      "source": [
        "#5"
      ],
      "metadata": {
        "id": "SvdgmJ66czQu"
      },
      "execution_count": 37,
      "outputs": []
    },
    {
      "cell_type": "code",
      "source": [
        "year=int(input(\"Write a year:\"))\n",
        "if year%4==0:\n",
        "  if year%100==0:\n",
        "    print(\"Your entry is a leap year.\")\n",
        "elif year%400==0:\n",
        "    print(\"Your entry is a leap year.\")\n",
        "else:\n",
        "    print(\"Your entry is not a leap year.\")"
      ],
      "metadata": {
        "id": "TJQB_Icec4ST",
        "outputId": "b01276d6-8658-433c-e933-37ec72d4b63f",
        "colab": {
          "base_uri": "https://localhost:8080/"
        }
      },
      "execution_count": 47,
      "outputs": [
        {
          "output_type": "stream",
          "name": "stdout",
          "text": [
            "Write a year:1997\n",
            "Your entry is not a leap year.\n"
          ]
        }
      ]
    }
  ]
}