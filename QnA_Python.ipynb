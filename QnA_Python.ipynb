{
  "nbformat": 4,
  "nbformat_minor": 0,
  "metadata": {
    "colab": {
      "provenance": [],
      "authorship_tag": "ABX9TyMhyuPoQEzsByIncBJomhMQ",
      "include_colab_link": true
    },
    "kernelspec": {
      "name": "python3",
      "display_name": "Python 3"
    },
    "language_info": {
      "name": "python"
    }
  },
  "cells": [
    {
      "cell_type": "markdown",
      "metadata": {
        "id": "view-in-github",
        "colab_type": "text"
      },
      "source": [
        "<a href=\"https://colab.research.google.com/github/virginmohito/Machine-Learning-Bootcamp/blob/main/QnA_Python.ipynb\" target=\"_parent\"><img src=\"https://colab.research.google.com/assets/colab-badge.svg\" alt=\"Open In Colab\"/></a>"
      ]
    },
    {
      "cell_type": "code",
      "source": [
        "#13.12.2022"
      ],
      "metadata": {
        "id": "jy21QWdBp6Za"
      },
      "execution_count": null,
      "outputs": []
    },
    {
      "cell_type": "code",
      "execution_count": null,
      "metadata": {
        "id": "7iiWwBObm5-9"
      },
      "outputs": [],
      "source": [
        "#1"
      ]
    },
    {
      "cell_type": "code",
      "source": [
        "a= input(\"write first number:\")\n",
        "b= input (\"write second number:\")\n",
        "c= int(a) + int(b)\n",
        "print(c)"
      ],
      "metadata": {
        "id": "wN9LTrqinjel"
      },
      "execution_count": null,
      "outputs": []
    },
    {
      "cell_type": "code",
      "source": [
        "#2"
      ],
      "metadata": {
        "id": "MeTDHdGFnost"
      },
      "execution_count": null,
      "outputs": []
    },
    {
      "cell_type": "code",
      "source": [
        "R=int(input(\"Enter radius of circle:\"))\n",
        "C=2*3.14*R\n",
        "A=3.14*(R**2)\n",
        "print(\"Circumference:\",C, \" and Area:\", A)"
      ],
      "metadata": {
        "colab": {
          "base_uri": "https://localhost:8080/"
        },
        "id": "IZc-YQ0EnqEb",
        "outputId": "4f578eaf-b694-4929-faa3-baf4c1ac4fcb"
      },
      "execution_count": null,
      "outputs": [
        {
          "output_type": "stream",
          "name": "stdout",
          "text": [
            "Enter radius of circle:4\n",
            "Circumference: 25.12  and Area: 50.24\n"
          ]
        }
      ]
    },
    {
      "cell_type": "code",
      "source": [
        "#3"
      ],
      "metadata": {
        "id": "LNZls38rod1F"
      },
      "execution_count": null,
      "outputs": []
    },
    {
      "cell_type": "code",
      "source": [
        "RN=int(input(\"Enter Roll number:\"))\n",
        "G=int(input(\"Enter grade:\"))\n",
        "P=int(input(\"Enter Percentage:\"))\n",
        "print(\"Your roll number is:\",RN,\n",
        "      \" and Your grade is:\",G,\n",
        "      \" and Your percentage is:\",P,)"
      ],
      "metadata": {
        "colab": {
          "base_uri": "https://localhost:8080/"
        },
        "id": "r1fFKd7mofIK",
        "outputId": "662fb206-5f23-4614-e4b5-5c90b83b0c78"
      },
      "execution_count": null,
      "outputs": [
        {
          "output_type": "stream",
          "name": "stdout",
          "text": [
            "Enter Roll number:430\n",
            "Enter grade:30\n",
            "Enter Percentage:40\n",
            "Your roll number is: 430  and Your grade is: 30  and Your percentage is: 40\n"
          ]
        }
      ]
    },
    {
      "cell_type": "code",
      "source": [
        "#4"
      ],
      "metadata": {
        "id": "g6uFNw8Bpdqu"
      },
      "execution_count": null,
      "outputs": []
    },
    {
      "cell_type": "code",
      "source": [
        "=input(\"write your name:\")\n",
        "b=int(input(\"Write your age:\"))\n",
        "c=100-b\n",
        "d=2022+c\n",
        "print(\"name:\",a,\" and year\",d)"
      ],
      "metadata": {
        "id": "dEEqzpEFpfgY"
      },
      "execution_count": null,
      "outputs": []
    },
    {
      "cell_type": "code",
      "source": [
        "#5"
      ],
      "metadata": {
        "id": "wJ6cx0kupoee"
      },
      "execution_count": null,
      "outputs": []
    },
    {
      "cell_type": "code",
      "source": [
        "a=input(\"First name:\")\n",
        "b=input(\"Last name:\")\n",
        "c=a[::-1]\n",
        "d=b[::-1]\n",
        "print(c,d)"
      ],
      "metadata": {
        "colab": {
          "base_uri": "https://localhost:8080/"
        },
        "id": "qZeVahx0pqTa",
        "outputId": "a553c097-41fa-4a75-9477-dddcd7c80881"
      },
      "execution_count": null,
      "outputs": [
        {
          "output_type": "stream",
          "name": "stdout",
          "text": [
            "First name:Mohit\n",
            "Last name:Gupta\n",
            "tihoM atpuG\n"
          ]
        }
      ]
    },
    {
      "cell_type": "code",
      "source": [
        "# 15.12.2022"
      ],
      "metadata": {
        "id": "OpQJ5JlvqBAU"
      },
      "execution_count": null,
      "outputs": []
    },
    {
      "cell_type": "code",
      "source": [
        "#1"
      ],
      "metadata": {
        "id": "9NckLHX0QJVJ"
      },
      "execution_count": null,
      "outputs": []
    },
    {
      "cell_type": "code",
      "source": [
        "num=int(input(\"Write a number:\"))\n",
        "if (num)%2==0:\n",
        "  print(\"Your number is even.\")\n",
        "else:\n",
        "  print(\"Your number is odd.\")"
      ],
      "metadata": {
        "id": "9JxS3DQR6lIW",
        "outputId": "e73c13dc-9179-4d95-b688-8a66ce9f18f6",
        "colab": {
          "base_uri": "https://localhost:8080/"
        }
      },
      "execution_count": null,
      "outputs": [
        {
          "output_type": "stream",
          "name": "stdout",
          "text": [
            "Write a number:56789\n",
            "Your number is odd.\n"
          ]
        }
      ]
    },
    {
      "cell_type": "code",
      "source": [
        "#2"
      ],
      "metadata": {
        "id": "bE29Rbs8QLAM"
      },
      "execution_count": null,
      "outputs": []
    },
    {
      "cell_type": "code",
      "source": [
        "char=input(\"Write your character: \")\n",
        "if 'A'<(char)<'Z':\n",
        "  print('Your character is CAPITAL.')\n",
        "else:\n",
        "  print('Your character is small.')"
      ],
      "metadata": {
        "id": "cWN8udIuQMWV",
        "outputId": "36cc5174-dda6-4452-e8c1-a347b786d633",
        "colab": {
          "base_uri": "https://localhost:8080/"
        }
      },
      "execution_count": null,
      "outputs": [
        {
          "output_type": "stream",
          "name": "stdout",
          "text": [
            "Write your character: h\n",
            "Your character is small.\n"
          ]
        }
      ]
    },
    {
      "cell_type": "code",
      "source": [
        "#3"
      ],
      "metadata": {
        "id": "fa18EmI3Qx5e"
      },
      "execution_count": null,
      "outputs": []
    },
    {
      "cell_type": "code",
      "source": [
        "sym=input('Write your character: ')\n",
        "ch=sym[0]\n",
        "if \"A\"<=ch<=\"Z\":\n",
        "  print(\"Your character is CAPITAL.\")\n",
        "elif \"a\"<=ch<=\"z\":\n",
        "    print(\"Your characer is small.\")\n",
        "elif  \"0\"<=ch<=\"9\":\n",
        "    print(\"Your characer is a number.\")\n",
        "else:\n",
        "  print(\"Your chracter is a symbol.\")"
      ],
      "metadata": {
        "id": "Jrt7IViUQyyK",
        "outputId": "eb1b3294-d190-46cb-fc78-652a48632c4a",
        "colab": {
          "base_uri": "https://localhost:8080/"
        }
      },
      "execution_count": null,
      "outputs": [
        {
          "output_type": "stream",
          "name": "stdout",
          "text": [
            "Write your character: H\n",
            "Your character is CAPITAL.\n"
          ]
        }
      ]
    },
    {
      "cell_type": "code",
      "source": [
        "#4"
      ],
      "metadata": {
        "id": "mFr80bJQZSsR"
      },
      "execution_count": null,
      "outputs": []
    },
    {
      "cell_type": "code",
      "source": [
        "n1=int((input(\"Write number :\")))\n",
        "n2=int((input(\"Write number :\")))\n",
        "n3=int((input(\"Write number :\")))\n",
        "if n1>n2:\n",
        "  if n1>n3:\n",
        "    print(\"n1 is the greatest number.\")\n",
        "elif n2>n1:\n",
        "  if n2>n3:\n",
        "    print(\"n2 is the greatest number.\")\n",
        "else:\n",
        "    print(\"n3 is the greatest number.\")"
      ],
      "metadata": {
        "id": "XA9sRn5EZYlA",
        "outputId": "2c7eddde-87d4-41c5-f436-aa4db9cf5d95",
        "colab": {
          "base_uri": "https://localhost:8080/"
        }
      },
      "execution_count": null,
      "outputs": [
        {
          "output_type": "stream",
          "name": "stdout",
          "text": [
            "Write number :30\n",
            "Write number :20\n",
            "Write number :10\n",
            "n1 is the greatest number.\n"
          ]
        }
      ]
    },
    {
      "cell_type": "code",
      "source": [
        "#5"
      ],
      "metadata": {
        "id": "SvdgmJ66czQu"
      },
      "execution_count": null,
      "outputs": []
    },
    {
      "cell_type": "code",
      "source": [
        "year=int(input(\"Write a year:\"))\n",
        "if year%4==0:\n",
        "  if year%100==0:\n",
        "    print(\"Your entry is a leap year.\")\n",
        "elif year%400==0:\n",
        "    print(\"Your entry is a leap year.\")\n",
        "else:\n",
        "    print(\"Your entry is not a leap year.\")"
      ],
      "metadata": {
        "id": "TJQB_Icec4ST",
        "outputId": "bc33844e-2902-48c4-b7b2-75a5165ce251",
        "colab": {
          "base_uri": "https://localhost:8080/"
        }
      },
      "execution_count": null,
      "outputs": [
        {
          "output_type": "stream",
          "name": "stdout",
          "text": [
            "Write a year:300403321\n",
            "Your entry is not a leap year.\n"
          ]
        }
      ]
    },
    {
      "cell_type": "code",
      "source": [
        "#6"
      ],
      "metadata": {
        "id": "p1v7gOrCZW4G"
      },
      "execution_count": null,
      "outputs": []
    },
    {
      "cell_type": "code",
      "source": [
        "import random\n",
        "r=random.randint(1,100)\n",
        "a=int(input(\"Write your guess:\"))\n",
        "while a!=r:\n",
        "  if a<=0:\n",
        "    print(\"Terminated. The answer was:\", r)\n",
        "    break\n",
        "  elif a<r:\n",
        "    print(\"Your guess was too low.\")\n",
        "    a=int(input(\"Enter guess again:\"))\n",
        "  elif a>r:\n",
        "    print(\"Your guess was too high.\")\n",
        "    a=int(input(\"Enter guess again:\"))\n",
        "  else:\n",
        "    print(\"Your guess was correct.\")\n"
      ],
      "metadata": {
        "colab": {
          "base_uri": "https://localhost:8080/"
        },
        "id": "1Wx40d6rZZTM",
        "outputId": "2c90d7aa-ed89-4faa-ac42-784b9d0a1776"
      },
      "execution_count": null,
      "outputs": [
        {
          "output_type": "stream",
          "name": "stdout",
          "text": [
            "Write your guess:30\n",
            "Your guess was too high.\n",
            "Enter guess again:-2\n",
            "Terminated. The answer was: 19\n"
          ]
        }
      ]
    },
    {
      "cell_type": "code",
      "source": [
        "#7"
      ],
      "metadata": {
        "id": "7N9YXBROaPnz"
      },
      "execution_count": null,
      "outputs": []
    },
    {
      "cell_type": "code",
      "source": [
        "n=input(\"enter a string:\")\n",
        "a=0\n",
        "while(a<len(n)):\n",
        "    if n[a]!='a' and n[a]!='e' and n[a]!='i' and n[a]!='o' and n[a]!='u':\n",
        "        print(n[a])\n",
        "    a+=1"
      ],
      "metadata": {
        "id": "lcrZ0wjgiQ1L"
      },
      "execution_count": null,
      "outputs": []
    },
    {
      "cell_type": "code",
      "source": [
        "#8"
      ],
      "metadata": {
        "id": "Dd3cmjcyrOX0"
      },
      "execution_count": null,
      "outputs": []
    },
    {
      "cell_type": "code",
      "source": [
        "num=int(input(\"Write a number:\"))\n",
        "sum=0\n",
        "while num!=0:\n",
        "  sum=sum+num\n",
        "  num=int(input(\"Write a number:\"))\n",
        "print('The sum of the digits entered is:', sum)"
      ],
      "metadata": {
        "colab": {
          "base_uri": "https://localhost:8080/"
        },
        "id": "QVy0YkWQrQVU",
        "outputId": "ab88b617-0d2b-4876-86cf-87f49c2479dc"
      },
      "execution_count": null,
      "outputs": [
        {
          "output_type": "stream",
          "name": "stdout",
          "text": [
            "Write a number:30\n",
            "Write a number:30\n",
            "Write a number:0\n",
            "The sum of the digits entered is: 60\n"
          ]
        }
      ]
    },
    {
      "cell_type": "code",
      "source": [
        "num=int\n",
        "sum=0\n",
        "while num!=0:\n",
        "  num=int(input(\"Write a number:\"))\n",
        "  if num<0:\n",
        "    print(\"Ignored.\")\n",
        "    continue\n",
        "  sum=sum+num\n",
        "else:\n",
        " print('The sum of the digits entered is:', sum)"
      ],
      "metadata": {
        "id": "eHI1ZJ2qu0ap",
        "outputId": "d46a26c8-3180-4dac-fce7-b88875928aae",
        "colab": {
          "base_uri": "https://localhost:8080/"
        }
      },
      "execution_count": null,
      "outputs": [
        {
          "output_type": "stream",
          "name": "stdout",
          "text": [
            "Write a number:98\n",
            "Write a number:98\n",
            "Write a number:-1\n",
            "Ignored.\n",
            "Write a number:-8\n",
            "Ignored.\n",
            "Write a number:90\n",
            "Write a number:0\n",
            "The sum of the digits entered is: 286\n"
          ]
        }
      ]
    },
    {
      "cell_type": "code",
      "source": [
        "#9"
      ],
      "metadata": {
        "id": "5LmUk0imnNU0"
      },
      "execution_count": null,
      "outputs": []
    },
    {
      "cell_type": "code",
      "source": [
        "alph=input(\"Write your string:\")\n",
        "x=str\n",
        "vow=['a','e','i','o','u']\n",
        "for x in alph:\n",
        "  if x not in vow:\n",
        "   print(x)"
      ],
      "metadata": {
        "id": "QslO6SDljOFX",
        "outputId": "caef36d6-45fa-4371-df1d-9590280b2fd0",
        "colab": {
          "base_uri": "https://localhost:8080/"
        }
      },
      "execution_count": null,
      "outputs": [
        {
          "output_type": "stream",
          "name": "stdout",
          "text": [
            "Write your string:mohit gupta\n",
            "m\n",
            "h\n",
            "t\n",
            " \n",
            "g\n",
            "p\n",
            "t\n"
          ]
        }
      ]
    },
    {
      "cell_type": "code",
      "source": [
        "#10"
      ],
      "metadata": {
        "id": "bKu86afBkhVm"
      },
      "execution_count": null,
      "outputs": []
    },
    {
      "cell_type": "code",
      "source": [
        "n=int(input(\"Write your integer:\"))\n",
        "total=0\n",
        "for x in range(1,n+1):\n",
        "  total=total+x\n",
        "print(\"The sum of numbers from 1 to {} is {}.\".format(n, total))"
      ],
      "metadata": {
        "id": "VfQ06e3YQ7q3",
        "outputId": "c61848c8-a958-4d9c-fcef-6a5bcceb4a21",
        "colab": {
          "base_uri": "https://localhost:8080/"
        }
      },
      "execution_count": 10,
      "outputs": [
        {
          "output_type": "stream",
          "name": "stdout",
          "text": [
            "Write your integer:90\n",
            "The sum of numbers from 1 to 90 is 4095.\n"
          ]
        }
      ]
    },
    {
      "cell_type": "code",
      "source": [
        "#11"
      ],
      "metadata": {
        "id": "ejNX35Aocc29"
      },
      "execution_count": 46,
      "outputs": []
    },
    {
      "cell_type": "code",
      "source": [
        "n=int(input(\"Write your integer:\"))\n",
        "total=1\n",
        "for x in range(1,n+1):\n",
        "  total=total*x\n",
        "print(\"The factorial of numbers from 1 to {} is {}.\".format(n, total))"
      ],
      "metadata": {
        "id": "otq-GJNtcmDr",
        "outputId": "c92aca55-f3a3-4205-d7ff-07e28aecdf1e",
        "colab": {
          "base_uri": "https://localhost:8080/"
        }
      },
      "execution_count": 48,
      "outputs": [
        {
          "output_type": "stream",
          "name": "stdout",
          "text": [
            "Write your integer:5\n",
            "The factorial of numbers from 1 to 5 is 120.\n"
          ]
        }
      ]
    },
    {
      "cell_type": "code",
      "source": [
        "#12"
      ],
      "metadata": {
        "id": "MUNjlQgQczpL"
      },
      "execution_count": null,
      "outputs": []
    },
    {
      "cell_type": "code",
      "source": [
        "sym1=(\"**\",\"**\",\"**\",\"**\")\n",
        "sym2=(\"*\")\n",
        "for x in sym1:\n",
        "  print(x, end=\"\")\n",
        "  for y in sym2:\n",
        "      print(y)"
      ],
      "metadata": {
        "id": "nKB0IPa8Rymi",
        "outputId": "748fbfab-a279-4f6b-c135-b4b4825c5436",
        "colab": {
          "base_uri": "https://localhost:8080/"
        }
      },
      "execution_count": 40,
      "outputs": [
        {
          "output_type": "stream",
          "name": "stdout",
          "text": [
            "***\n",
            "***\n",
            "***\n",
            "***\n"
          ]
        }
      ]
    },
    {
      "cell_type": "code",
      "source": [
        "for c in range(1,5):\n",
        "  print(\"*\"*3)"
      ],
      "metadata": {
        "id": "r0I48nvIc1vi",
        "outputId": "ea0e89e3-cde1-40cb-a8b1-d30089d51b72",
        "colab": {
          "base_uri": "https://localhost:8080/"
        }
      },
      "execution_count": 51,
      "outputs": [
        {
          "output_type": "stream",
          "name": "stdout",
          "text": [
            "***\n",
            "***\n",
            "***\n",
            "***\n"
          ]
        }
      ]
    },
    {
      "cell_type": "code",
      "source": [
        "#13"
      ],
      "metadata": {
        "id": "OvcPyy2dWro6"
      },
      "execution_count": null,
      "outputs": []
    },
    {
      "cell_type": "code",
      "source": [
        "for j in range(4):\n",
        "  for k in range(j+1):\n",
        "    print(\"*\", end=\"\")\n",
        "  print(\"\")"
      ],
      "metadata": {
        "id": "HmCXC68edXKU",
        "outputId": "f46d40f7-1d00-4e4f-d792-37361700a191",
        "colab": {
          "base_uri": "https://localhost:8080/"
        }
      },
      "execution_count": 89,
      "outputs": [
        {
          "output_type": "stream",
          "name": "stdout",
          "text": [
            "*\n",
            "**\n",
            "***\n",
            "****\n"
          ]
        }
      ]
    },
    {
      "cell_type": "code",
      "source": [
        "#14"
      ],
      "metadata": {
        "id": "57mGkfdBXP7c"
      },
      "execution_count": null,
      "outputs": []
    },
    {
      "cell_type": "code",
      "source": [
        "for j in range(3,-1,-1):\n",
        "  for k in range(j+1):\n",
        "    print(\"*\", end=\"\")\n",
        "  print(\"\")"
      ],
      "metadata": {
        "id": "2i62nK99kXaw",
        "outputId": "698f77af-fafd-4b09-d2a1-ff271194d902",
        "colab": {
          "base_uri": "https://localhost:8080/"
        }
      },
      "execution_count": 92,
      "outputs": [
        {
          "output_type": "stream",
          "name": "stdout",
          "text": [
            "****\n",
            "***\n",
            "**\n",
            "*\n"
          ]
        }
      ]
    },
    {
      "cell_type": "code",
      "source": [
        "#15"
      ],
      "metadata": {
        "id": "f2LiO-wIXTH-"
      },
      "execution_count": null,
      "outputs": []
    },
    {
      "cell_type": "code",
      "source": [
        "n=int\n",
        "while n!=0:\n",
        "  n=int(input(\"Write a number:\"))\n",
        "  for n in range(1,n+1):\n",
        "      print(n)\n",
        "else:\n",
        "  print('Loop ended.')\n"
      ],
      "metadata": {
        "id": "UEoawIFlko7R",
        "outputId": "aa18d7b0-f5d2-4a2f-d859-4d3ab5d36a28",
        "colab": {
          "base_uri": "https://localhost:8080/"
        }
      },
      "execution_count": 12,
      "outputs": [
        {
          "output_type": "stream",
          "name": "stdout",
          "text": [
            "Write a number:5\n",
            "1\n",
            "2\n",
            "3\n",
            "4\n",
            "5\n",
            "Write a number:10\n",
            "1\n",
            "2\n",
            "3\n",
            "4\n",
            "5\n",
            "6\n",
            "7\n",
            "8\n",
            "9\n",
            "10\n",
            "Write a number:0\n",
            "Loop ended.\n"
          ]
        }
      ]
    },
    {
      "cell_type": "code",
      "source": [],
      "metadata": {
        "id": "qKKITkdcVwf4"
      },
      "execution_count": null,
      "outputs": []
    }
  ]
}