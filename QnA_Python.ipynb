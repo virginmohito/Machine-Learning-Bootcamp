{
  "nbformat": 4,
  "nbformat_minor": 0,
  "metadata": {
    "colab": {
      "provenance": [],
      "authorship_tag": "ABX9TyNkYv4wP6U0xk8A4bA+kPel",
      "include_colab_link": true
    },
    "kernelspec": {
      "name": "python3",
      "display_name": "Python 3"
    },
    "language_info": {
      "name": "python"
    }
  },
  "cells": [
    {
      "cell_type": "markdown",
      "metadata": {
        "id": "view-in-github",
        "colab_type": "text"
      },
      "source": [
        "<a href=\"https://colab.research.google.com/github/virginmohito/Machine-Learning-Bootcamp/blob/main/QnA_Python.ipynb\" target=\"_parent\"><img src=\"https://colab.research.google.com/assets/colab-badge.svg\" alt=\"Open In Colab\"/></a>"
      ]
    },
    {
      "cell_type": "code",
      "source": [
        "#13.12.2022"
      ],
      "metadata": {
        "id": "jy21QWdBp6Za"
      },
      "execution_count": null,
      "outputs": []
    },
    {
      "cell_type": "code",
      "execution_count": null,
      "metadata": {
        "id": "7iiWwBObm5-9"
      },
      "outputs": [],
      "source": [
        "#1"
      ]
    },
    {
      "cell_type": "code",
      "source": [
        "a= input(\"write first number:\")\n",
        "b= input (\"write second number:\")\n",
        "c= int(a) + int(b)\n",
        "print(c)"
      ],
      "metadata": {
        "id": "wN9LTrqinjel"
      },
      "execution_count": null,
      "outputs": []
    },
    {
      "cell_type": "code",
      "source": [
        "#2"
      ],
      "metadata": {
        "id": "MeTDHdGFnost"
      },
      "execution_count": null,
      "outputs": []
    },
    {
      "cell_type": "code",
      "source": [
        "R=int(input(\"Enter radius of circle:\"))\n",
        "C=2*3.14*R\n",
        "A=3.14*(R**2)\n",
        "print(\"Circumference:\",C, \" and Area:\", A)"
      ],
      "metadata": {
        "colab": {
          "base_uri": "https://localhost:8080/"
        },
        "id": "IZc-YQ0EnqEb",
        "outputId": "4f578eaf-b694-4929-faa3-baf4c1ac4fcb"
      },
      "execution_count": null,
      "outputs": [
        {
          "output_type": "stream",
          "name": "stdout",
          "text": [
            "Enter radius of circle:4\n",
            "Circumference: 25.12  and Area: 50.24\n"
          ]
        }
      ]
    },
    {
      "cell_type": "code",
      "source": [
        "#3"
      ],
      "metadata": {
        "id": "LNZls38rod1F"
      },
      "execution_count": null,
      "outputs": []
    },
    {
      "cell_type": "code",
      "source": [
        "RN=int(input(\"Enter Roll number:\"))\n",
        "G=int(input(\"Enter grade:\"))\n",
        "P=int(input(\"Enter Percentage:\"))\n",
        "print(\"Your roll number is:\",RN,\n",
        "      \" and Your grade is:\",G,\n",
        "      \" and Your percentage is:\",P,)"
      ],
      "metadata": {
        "colab": {
          "base_uri": "https://localhost:8080/"
        },
        "id": "r1fFKd7mofIK",
        "outputId": "662fb206-5f23-4614-e4b5-5c90b83b0c78"
      },
      "execution_count": null,
      "outputs": [
        {
          "output_type": "stream",
          "name": "stdout",
          "text": [
            "Enter Roll number:430\n",
            "Enter grade:30\n",
            "Enter Percentage:40\n",
            "Your roll number is: 430  and Your grade is: 30  and Your percentage is: 40\n"
          ]
        }
      ]
    },
    {
      "cell_type": "code",
      "source": [
        "#4"
      ],
      "metadata": {
        "id": "g6uFNw8Bpdqu"
      },
      "execution_count": null,
      "outputs": []
    },
    {
      "cell_type": "code",
      "source": [
        "=input(\"write your name:\")\n",
        "b=int(input(\"Write your age:\"))\n",
        "c=100-b\n",
        "d=2022+c\n",
        "print(\"name:\",a,\" and year\",d)"
      ],
      "metadata": {
        "id": "dEEqzpEFpfgY"
      },
      "execution_count": null,
      "outputs": []
    },
    {
      "cell_type": "code",
      "source": [
        "#5"
      ],
      "metadata": {
        "id": "wJ6cx0kupoee"
      },
      "execution_count": null,
      "outputs": []
    },
    {
      "cell_type": "code",
      "source": [
        "a=input(\"First name:\")\n",
        "b=input(\"Last name:\")\n",
        "c=a[::-1]\n",
        "d=b[::-1]\n",
        "print(c,d)"
      ],
      "metadata": {
        "colab": {
          "base_uri": "https://localhost:8080/"
        },
        "id": "qZeVahx0pqTa",
        "outputId": "a553c097-41fa-4a75-9477-dddcd7c80881"
      },
      "execution_count": null,
      "outputs": [
        {
          "output_type": "stream",
          "name": "stdout",
          "text": [
            "First name:Mohit\n",
            "Last name:Gupta\n",
            "tihoM atpuG\n"
          ]
        }
      ]
    },
    {
      "cell_type": "code",
      "source": [
        "#15.12.2022"
      ],
      "metadata": {
        "id": "OpQJ5JlvqBAU"
      },
      "execution_count": null,
      "outputs": []
    }
  ]
}